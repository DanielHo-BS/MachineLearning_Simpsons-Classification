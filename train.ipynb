{
 "cells": [
  {
   "cell_type": "code",
   "execution_count": 1,
   "id": "cec51281",
   "metadata": {},
   "outputs": [],
   "source": [
    "import numpy as np\n",
    "import os\n",
    "import PIL\n",
    "import PIL.Image\n",
    "import tensorflow as tf\n",
    "import pathlib"
   ]
  },
  {
   "cell_type": "code",
   "execution_count": 2,
   "id": "bbe26989",
   "metadata": {},
   "outputs": [],
   "source": [
    "path=\"theSimpsons-train/train\"\n",
    "data_dir = pathlib.Path(path)"
   ]
  },
  {
   "cell_type": "code",
   "execution_count": 3,
   "id": "cadc3ddd",
   "metadata": {},
   "outputs": [
    {
     "name": "stdout",
     "output_type": "stream",
     "text": [
      "96929\n"
     ]
    }
   ],
   "source": [
    "image_count = len(list(data_dir.glob('*/*.jpg')))\n",
    "print(image_count)"
   ]
  },
  {
   "cell_type": "code",
   "execution_count": 4,
   "id": "c4550e35",
   "metadata": {},
   "outputs": [],
   "source": [
    "datagen=tf.keras.preprocessing.image.ImageDataGenerator(\n",
    "    rescale=1./255,\n",
    "    horizontal_flip=True,\n",
    "    vertical_flip=True,\n",
    "    rotation_range=30,\n",
    "    validation_split=0.2\n",
    ")"
   ]
  },
  {
   "cell_type": "code",
   "execution_count": 5,
   "id": "27772361",
   "metadata": {},
   "outputs": [
    {
     "name": "stdout",
     "output_type": "stream",
     "text": [
      "Found 77560 images belonging to 50 classes.\n"
     ]
    }
   ],
   "source": [
    "batch_size = 32\n",
    "img_height = 180\n",
    "img_width = 180\n",
    "\n",
    "train_ds = datagen.flow_from_directory(\n",
    "  data_dir,\n",
    "  subset=\"training\",\n",
    "  seed=123,\n",
    "  target_size=(img_height, img_width),\n",
    "  batch_size=batch_size)"
   ]
  },
  {
   "cell_type": "code",
   "execution_count": 6,
   "id": "339d63bb",
   "metadata": {
    "scrolled": false
   },
   "outputs": [
    {
     "name": "stdout",
     "output_type": "stream",
     "text": [
      "Found 19369 images belonging to 50 classes.\n"
     ]
    }
   ],
   "source": [
    "val_ds = datagen.flow_from_directory(\n",
    "  data_dir,\n",
    "  subset=\"validation\",\n",
    "  seed=123,\n",
    "  target_size=(img_height, img_width),\n",
    "  batch_size=batch_size)"
   ]
  },
  {
   "cell_type": "code",
   "execution_count": 7,
   "id": "5a6be853",
   "metadata": {},
   "outputs": [
    {
     "name": "stdout",
     "output_type": "stream",
     "text": [
      "{'abraham_grampa_simpson': 0, 'agnes_skinner': 1, 'apu_nahasapeemapetilon': 2, 'barney_gumble': 3, 'bart_simpson': 4, 'brandine_spuckler': 5, 'carl_carlson': 6, 'charles_montgomery_burns': 7, 'chief_wiggum': 8, 'cletus_spuckler': 9, 'comic_book_guy': 10, 'disco_stu': 11, 'dolph_starbeam': 12, 'duff_man': 13, 'edna_krabappel': 14, 'fat_tony': 15, 'gary_chalmers': 16, 'gil': 17, 'groundskeeper_willie': 18, 'homer_simpson': 19, 'jimbo_jones': 20, 'kearney_zzyzwicz': 21, 'kent_brockman': 22, 'krusty_the_clown': 23, 'lenny_leonard': 24, 'lionel_hutz': 25, 'lisa_simpson': 26, 'lunchlady_doris': 27, 'maggie_simpson': 28, 'marge_simpson': 29, 'martin_prince': 30, 'mayor_quimby': 31, 'milhouse_van_houten': 32, 'miss_hoover': 33, 'moe_szyslak': 34, 'ned_flanders': 35, 'nelson_muntz': 36, 'otto_mann': 37, 'patty_bouvier': 38, 'principal_skinner': 39, 'professor_john_frink': 40, 'rainier_wolfcastle': 41, 'ralph_wiggum': 42, 'selma_bouvier': 43, 'sideshow_bob': 44, 'sideshow_mel': 45, 'snake_jailbird': 46, 'timothy_lovejoy': 47, 'troy_mcclure': 48, 'waylon_smithers': 49}\n"
     ]
    }
   ],
   "source": [
    "class_names = train_ds.class_indices\n",
    "print(class_names)"
   ]
  },
  {
   "cell_type": "code",
   "execution_count": 8,
   "id": "33936fe3",
   "metadata": {},
   "outputs": [
    {
     "data": {
      "text/plain": [
       "['abraham_grampa_simpson',\n",
       " 'agnes_skinner',\n",
       " 'apu_nahasapeemapetilon',\n",
       " 'barney_gumble',\n",
       " 'bart_simpson',\n",
       " 'brandine_spuckler',\n",
       " 'carl_carlson',\n",
       " 'charles_montgomery_burns',\n",
       " 'chief_wiggum',\n",
       " 'cletus_spuckler',\n",
       " 'comic_book_guy',\n",
       " 'disco_stu',\n",
       " 'dolph_starbeam',\n",
       " 'duff_man',\n",
       " 'edna_krabappel',\n",
       " 'fat_tony',\n",
       " 'gary_chalmers',\n",
       " 'gil',\n",
       " 'groundskeeper_willie',\n",
       " 'homer_simpson',\n",
       " 'jimbo_jones',\n",
       " 'kearney_zzyzwicz',\n",
       " 'kent_brockman',\n",
       " 'krusty_the_clown',\n",
       " 'lenny_leonard',\n",
       " 'lionel_hutz',\n",
       " 'lisa_simpson',\n",
       " 'lunchlady_doris',\n",
       " 'maggie_simpson',\n",
       " 'marge_simpson',\n",
       " 'martin_prince',\n",
       " 'mayor_quimby',\n",
       " 'milhouse_van_houten',\n",
       " 'miss_hoover',\n",
       " 'moe_szyslak',\n",
       " 'ned_flanders',\n",
       " 'nelson_muntz',\n",
       " 'otto_mann',\n",
       " 'patty_bouvier',\n",
       " 'principal_skinner',\n",
       " 'professor_john_frink',\n",
       " 'rainier_wolfcastle',\n",
       " 'ralph_wiggum',\n",
       " 'selma_bouvier',\n",
       " 'sideshow_bob',\n",
       " 'sideshow_mel',\n",
       " 'snake_jailbird',\n",
       " 'timothy_lovejoy',\n",
       " 'troy_mcclure',\n",
       " 'waylon_smithers']"
      ]
     },
     "execution_count": 8,
     "metadata": {},
     "output_type": "execute_result"
    }
   ],
   "source": [
    "class_list=[key for key in class_names.keys()]\n",
    "class_list"
   ]
  },
  {
   "cell_type": "code",
   "execution_count": 9,
   "id": "2e3184c5",
   "metadata": {},
   "outputs": [],
   "source": [
    "import keras\n",
    "from keras.models import Sequential\n",
    "from keras.models import Model\n",
    "from keras.callbacks import ModelCheckpoint, LearningRateScheduler, EarlyStopping, ReduceLROnPlateau, TensorBoard\n",
    "from keras import optimizers, losses, activations, models\n",
    "from keras.layers import Convolution2D, Dense, Input, Flatten, Dropout, MaxPooling2D, BatchNormalization, GlobalAveragePooling2D, Concatenate,Dropout\n",
    "from keras.applications.inception_v3 import InceptionV3\n",
    "from keras.applications.resnet import ResNet50\n"
   ]
  },
  {
   "cell_type": "code",
   "execution_count": 10,
   "id": "47ed7171",
   "metadata": {},
   "outputs": [],
   "source": [
    "num_classes = 50\n",
    "\n",
    "def model_ResNet50():\n",
    "    base_model = ResNet50(weights='imagenet',\n",
    "                          include_top=False,\n",
    "                          pooling=max,\n",
    "                          input_shape=(img_height,img_width,3))\n",
    "\n",
    "    #for layer in base_model.layers:\n",
    "        #layer.trainable = False\n",
    "\n",
    "    add_model = Sequential()\n",
    "    add_model.add(base_model)\n",
    "    add_model.add(GlobalAveragePooling2D())\n",
    "    add_model.add(Dense(1024, kernel_regularizer=keras.regularizers.l2(0.001), activation='relu'))\n",
    "    add_model.add(Dense(512, kernel_regularizer=keras.regularizers.l2(0.001), activation='relu'))\n",
    "    add_model.add(Dense(num_classes, activation='softmax'))\n",
    "\n",
    "    model = add_model\n",
    "    #optimizer=tf.keras.optimizers.RMSprop(lr=0.001, decay=1e-6)\n",
    "    optimizer='adam'\n",
    "    model.compile(\n",
    "      optimizer=optimizer,\n",
    "      loss=tf.losses.CategoricalCrossentropy(),\n",
    "      metrics=['accuracy'])\n",
    "\n",
    "    model.summary()\n",
    "    return model\n",
    "\n"
   ]
  },
  {
   "cell_type": "code",
   "execution_count": 11,
   "id": "bba72d81",
   "metadata": {},
   "outputs": [
    {
     "name": "stdout",
     "output_type": "stream",
     "text": [
      "Model: \"sequential\"\n",
      "_________________________________________________________________\n",
      "Layer (type)                 Output Shape              Param #   \n",
      "=================================================================\n",
      "resnet50 (Functional)        (None, 6, 6, 2048)        23587712  \n",
      "_________________________________________________________________\n",
      "global_average_pooling2d (Gl (None, 2048)              0         \n",
      "_________________________________________________________________\n",
      "dense (Dense)                (None, 1024)              2098176   \n",
      "_________________________________________________________________\n",
      "dense_1 (Dense)              (None, 512)               524800    \n",
      "_________________________________________________________________\n",
      "dense_2 (Dense)              (None, 50)                25650     \n",
      "=================================================================\n",
      "Total params: 26,236,338\n",
      "Trainable params: 26,183,218\n",
      "Non-trainable params: 53,120\n",
      "_________________________________________________________________\n"
     ]
    }
   ],
   "source": [
    "model=model_ResNet50()"
   ]
  },
  {
   "cell_type": "code",
   "execution_count": 12,
   "id": "72a8cb1f",
   "metadata": {},
   "outputs": [],
   "source": [
    "# 創建模型儲存目錄：\n",
    "model_dir = 'lab-logs/models/'\n",
    "if not os.path.exists(model_dir):\n",
    "    os.makedirs(model_dir)\n",
    "    \n",
    "# TensorBoard回調函數會幫忙紀錄訓練資訊，並存成TensorBoard的紀錄檔\n",
    "log_dir = os.path.join('lab-logs', 'model-7')\n",
    "model_cbk = keras.callbacks.TensorBoard(log_dir=log_dir)\n",
    "# ModelCheckpoint回調函數幫忙儲存網路模型，可以設定只儲存最好的模型，「monitor」表示被監測的數據，「mode」min則代表監測數據越小越好。\n",
    "model_mckp = keras.callbacks.ModelCheckpoint(model_dir + '/Best-model-7.h5',monitor='val_accuracy',save_best_only=True,mode='max')\n",
    "\n"
   ]
  },
  {
   "cell_type": "code",
   "execution_count": 13,
   "id": "9b33221e",
   "metadata": {},
   "outputs": [],
   "source": [
    "#載入訓練好的模型 \n",
    "#model = tf.keras.models.load_model('lab-logs/models/Best-model-2.h5')"
   ]
  },
  {
   "cell_type": "code",
   "execution_count": 14,
   "id": "795ef45e",
   "metadata": {
    "scrolled": true
   },
   "outputs": [
    {
     "name": "stdout",
     "output_type": "stream",
     "text": [
      "Epoch 1/20\n",
      "2424/2424 [==============================] - 2074s 852ms/step - loss: 1.9701 - accuracy: 0.5478 - val_loss: 1.2189 - val_accuracy: 0.7216\n"
     ]
    },
    {
     "name": "stderr",
     "output_type": "stream",
     "text": [
      "C:\\Users\\D\\anaconda3\\envs\\ml\\lib\\site-packages\\keras\\utils\\generic_utils.py:497: CustomMaskWarning: Custom mask layers require a config and must override get_config. When loading, the custom mask layer must be passed to the custom_objects argument.\n",
      "  category=CustomMaskWarning)\n"
     ]
    },
    {
     "name": "stdout",
     "output_type": "stream",
     "text": [
      "Epoch 2/20\n",
      "2424/2424 [==============================] - 1573s 649ms/step - loss: 0.7413 - accuracy: 0.8430 - val_loss: 0.9380 - val_accuracy: 0.7948\n",
      "Epoch 3/20\n",
      "2424/2424 [==============================] - 1576s 650ms/step - loss: 0.5244 - accuracy: 0.8931 - val_loss: 1.0251 - val_accuracy: 0.7728\n",
      "Epoch 4/20\n",
      "2424/2424 [==============================] - 1557s 642ms/step - loss: 0.4108 - accuracy: 0.9186 - val_loss: 0.7677 - val_accuracy: 0.8316\n",
      "Epoch 5/20\n",
      "2424/2424 [==============================] - 1554s 641ms/step - loss: 0.3422 - accuracy: 0.9331 - val_loss: 0.4443 - val_accuracy: 0.9062\n",
      "Epoch 6/20\n",
      "2424/2424 [==============================] - 1557s 642ms/step - loss: 0.2865 - accuracy: 0.9450 - val_loss: 0.6739 - val_accuracy: 0.8560\n",
      "Epoch 7/20\n",
      "2424/2424 [==============================] - 1552s 640ms/step - loss: 0.2549 - accuracy: 0.9516 - val_loss: 0.5829 - val_accuracy: 0.8689\n",
      "Epoch 8/20\n",
      "2424/2424 [==============================] - 1549s 639ms/step - loss: 0.2236 - accuracy: 0.9576 - val_loss: 0.4608 - val_accuracy: 0.8981\n",
      "Epoch 9/20\n",
      "2424/2424 [==============================] - 1564s 645ms/step - loss: 0.2015 - accuracy: 0.9622 - val_loss: 0.2763 - val_accuracy: 0.9410\n",
      "Epoch 10/20\n",
      "2424/2424 [==============================] - 1561s 644ms/step - loss: 0.1853 - accuracy: 0.9654 - val_loss: 0.3784 - val_accuracy: 0.9221\n",
      "Epoch 11/20\n",
      "2424/2424 [==============================] - 1550s 639ms/step - loss: 0.1697 - accuracy: 0.9687 - val_loss: 0.2420 - val_accuracy: 0.9482\n",
      "Epoch 12/20\n",
      "2424/2424 [==============================] - 1581s 652ms/step - loss: 0.1595 - accuracy: 0.9704 - val_loss: 0.2248 - val_accuracy: 0.9518\n",
      "Epoch 13/20\n",
      "2424/2424 [==============================] - 1504s 620ms/step - loss: 0.1453 - accuracy: 0.9737 - val_loss: 0.1934 - val_accuracy: 0.9627\n",
      "Epoch 14/20\n",
      "2424/2424 [==============================] - 1431s 590ms/step - loss: 0.1373 - accuracy: 0.9748 - val_loss: 0.1904 - val_accuracy: 0.9612\n",
      "Epoch 15/20\n",
      "2424/2424 [==============================] - 1427s 589ms/step - loss: 0.1309 - accuracy: 0.9766 - val_loss: 0.2071 - val_accuracy: 0.9564\n",
      "Epoch 16/20\n",
      "2424/2424 [==============================] - 1429s 590ms/step - loss: 0.1225 - accuracy: 0.9784 - val_loss: 0.2571 - val_accuracy: 0.9458\n",
      "Epoch 17/20\n",
      "2424/2424 [==============================] - 1428s 589ms/step - loss: 0.1195 - accuracy: 0.9793 - val_loss: 0.1319 - val_accuracy: 0.9760\n",
      "Epoch 18/20\n",
      "2424/2424 [==============================] - 1432s 591ms/step - loss: 0.1094 - accuracy: 0.9812 - val_loss: 0.2069 - val_accuracy: 0.9551\n",
      "Epoch 19/20\n",
      "2424/2424 [==============================] - 1429s 589ms/step - loss: 0.1065 - accuracy: 0.9820 - val_loss: 0.1224 - val_accuracy: 0.9791\n",
      "Epoch 20/20\n",
      "2424/2424 [==============================] - 1431s 590ms/step - loss: 0.1011 - accuracy: 0.9829 - val_loss: 0.3153 - val_accuracy: 0.9369\n"
     ]
    }
   ],
   "source": [
    "#開始訓練\n",
    "history = model.fit(train_ds,\n",
    "          callbacks=[model_mckp],\n",
    "          epochs=20,\n",
    "          validation_data=val_ds)\n",
    "          "
   ]
  },
  {
   "cell_type": "code",
   "execution_count": 15,
   "id": "61564e36",
   "metadata": {},
   "outputs": [
    {
     "data": {
      "text/plain": [
       "dict_keys(['loss', 'accuracy', 'val_loss', 'val_accuracy'])"
      ]
     },
     "execution_count": 15,
     "metadata": {},
     "output_type": "execute_result"
    }
   ],
   "source": [
    "history.history.keys() # 查看history儲存的資訊有哪些"
   ]
  },
  {
   "cell_type": "code",
   "execution_count": 16,
   "id": "dcef6646",
   "metadata": {},
   "outputs": [
    {
     "data": {
      "text/plain": [
       "<matplotlib.legend.Legend at 0x1b1ec05c488>"
      ]
     },
     "execution_count": 16,
     "metadata": {},
     "output_type": "execute_result"
    },
    {
     "data": {
      "image/png": "[encoded data removed]",
      "text/plain": [
       "<Figure size 432x288 with 1 Axes>"
      ]
     },
     "metadata": {
      "needs_background": "light"
     },
     "output_type": "display_data"
    }
   ],
   "source": [
    "from matplotlib import pyplot as plt\n",
    "#Mean absolute error\n",
    "plt.plot(history.history['accuracy'], label='train')\n",
    "plt.plot(history.history['val_accuracy'], label='validation')\n",
    "plt.title('accuracy')\n",
    "plt.ylabel('metrics')\n",
    "plt.xlabel('epochs')\n",
    "plt.legend(loc='upper right')"
   ]
  },
  {
   "cell_type": "code",
   "execution_count": 17,
   "id": "35ffc637",
   "metadata": {},
   "outputs": [
    {
     "data": {
      "text/plain": [
       "<matplotlib.legend.Legend at 0x1b1f1b9a7c8>"
      ]
     },
     "execution_count": 17,
     "metadata": {},
     "output_type": "execute_result"
    },
    {
     "data": {
      "image/png": "[encoded data removed]",
      "text/plain": [
       "<Figure size 432x288 with 1 Axes>"
      ]
     },
     "metadata": {
      "needs_background": "light"
     },
     "output_type": "display_data"
    }
   ],
   "source": [
    "#Mean square error\n",
    "plt.plot(history.history['loss'], label='train')\n",
    "plt.plot(history.history['val_loss'], label='validation')\n",
    "plt.title('loss')\n",
    "plt.ylabel('loss')\n",
    "plt.xlabel('epochs')\n",
    "plt.legend(loc='upper right')"
   ]
  }
 ],
 "metadata": {
  "kernelspec": {
   "display_name": "Python 3",
   "language": "python",
   "name": "python3"
  },
  "language_info": {
   "codemirror_mode": {
    "name": "ipython",
    "version": 3
   },
   "file_extension": ".py",
   "mimetype": "text/x-python",
   "name": "python",
   "nbconvert_exporter": "python",
   "pygments_lexer": "ipython3",
   "version": "3.7.12"
  }
 },
 "nbformat": 4,
 "nbformat_minor": 5
}
